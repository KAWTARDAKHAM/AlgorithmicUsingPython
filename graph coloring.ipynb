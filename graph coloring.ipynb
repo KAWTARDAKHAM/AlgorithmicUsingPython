{
 "cells": [
  {
   "cell_type": "code",
   "execution_count": null,
   "id": "895fe4e4",
   "metadata": {},
   "outputs": [],
   "source": [
    "import networkx as nx\n",
    "import matplotlib.pyplot as plt\n",
    "graph={}\n",
    "x=input(\"veuillez entrez le nom de votre fichier avec son extension(il faut que le fichier soit dans le meme répertoire que votre environement de travail\")\n",
    "with open(x, 'r') as file:\n",
    "    with open(x,'r+') as fp:\n",
    "        lines=fp.readlines()\n",
    "        fp.seek(0)\n",
    "        fp.truncate()\n",
    "        fp.writelines(lines[1:])\n",
    "    for line in file:\n",
    "        node1, node2 = line.strip().split()\n",
    "        if node1 not in graph:\n",
    "            graph[node1] = []\n",
    "        if node2 not in graph:\n",
    "            graph[node2] = []\n",
    "        graph[node1].append(node2)\n",
    "        graph[node2].append(node1)\n",
    "colors = {}\n",
    "nodes = sorted(graph, key=lambda x: len(graph[x]), reverse=True)\n",
    "color_list = [\"red\", \"green\", \"blue\", \"yellow\", \"orange\", \"purple\",\"black\",\"brown\",\"pink\"]\n",
    "for node in nodes:\n",
    "    used_colors = set()\n",
    "    for neighbor in graph[node]:\n",
    "        if neighbor in colors:\n",
    "            used_colors.add(colors[neighbor])\n",
    "    for color in color_list:\n",
    "        if color not in used_colors:\n",
    "            colors[node] = color\n",
    "            break\n",
    "for key , value in colors.items():\n",
    "    print (key , value)\n",
    "\n",
    "# representing the graph using networkx\n",
    "G=nx.from_dict_of_lists(graph)\n",
    "pos=nx.spring_layout(G)\n",
    "nx.draw(G,pos,with_labels=True)\n",
    "nx.draw_networkx_nodes(G,pos,nodelist=colors.keys(),node_color=list(colors.values()))\n",
    "plt.show()\n",
    "\n"
   ]
  },
  {
   "cell_type": "code",
   "execution_count": null,
   "id": "bee1fd0d",
   "metadata": {},
   "outputs": [],
   "source": []
  },
  {
   "cell_type": "code",
   "execution_count": null,
   "id": "c01bb842",
   "metadata": {},
   "outputs": [],
   "source": []
  },
  {
   "cell_type": "code",
   "execution_count": null,
   "id": "ffbe75e5",
   "metadata": {},
   "outputs": [],
   "source": []
  },
  {
   "cell_type": "code",
   "execution_count": null,
   "id": "b7619d44",
   "metadata": {},
   "outputs": [],
   "source": []
  },
  {
   "cell_type": "code",
   "execution_count": null,
   "id": "dc1bc6af",
   "metadata": {},
   "outputs": [],
   "source": []
  },
  {
   "cell_type": "code",
   "execution_count": null,
   "id": "1ee28ee8",
   "metadata": {},
   "outputs": [],
   "source": []
  },
  {
   "cell_type": "code",
   "execution_count": null,
   "id": "96bc82f9",
   "metadata": {},
   "outputs": [],
   "source": []
  },
  {
   "cell_type": "code",
   "execution_count": null,
   "id": "5328685f",
   "metadata": {},
   "outputs": [],
   "source": []
  },
  {
   "cell_type": "code",
   "execution_count": null,
   "id": "e88458bf",
   "metadata": {},
   "outputs": [],
   "source": []
  },
  {
   "cell_type": "code",
   "execution_count": null,
   "id": "c57746cb",
   "metadata": {},
   "outputs": [],
   "source": []
  },
  {
   "cell_type": "code",
   "execution_count": null,
   "id": "1d3ce4b5",
   "metadata": {},
   "outputs": [],
   "source": []
  }
 ],
 "metadata": {
  "kernelspec": {
   "display_name": "Python 3 (ipykernel)",
   "language": "python",
   "name": "python3"
  },
  "language_info": {
   "codemirror_mode": {
    "name": "ipython",
    "version": 3
   },
   "file_extension": ".py",
   "mimetype": "text/x-python",
   "name": "python",
   "nbconvert_exporter": "python",
   "pygments_lexer": "ipython3",
   "version": "3.10.6"
  }
 },
 "nbformat": 4,
 "nbformat_minor": 5
}
