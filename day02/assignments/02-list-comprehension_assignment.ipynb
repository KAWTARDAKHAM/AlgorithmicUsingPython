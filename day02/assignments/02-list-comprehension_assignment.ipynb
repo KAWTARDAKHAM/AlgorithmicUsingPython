{
 "cells": [
  {
   "cell_type": "markdown",
   "metadata": {},
   "source": [
    "# List Comprehension exercises"
   ]
  },
  {
   "cell_type": "code",
   "execution_count": 1,
   "metadata": {},
   "outputs": [],
   "source": [
    "fruits = ['mango', 'kiwi', 'strawberry', 'guava', 'pineapple', 'mandarin orange']\n",
    "\n",
    "numbers = [2, 3, 4, 5, 6, 7, 8, 9, 10, 11, 13, 17, 19, 23, 256, -8, -4, -2, 5, -9]\n",
    "\n",
    "# Example for loop solution to add 1 to each number in the list\n",
    "numbers_plus_one = []\n",
    "for number in numbers:\n",
    "    numbers_plus_one.append(number + 1)\n",
    "\n",
    "# Example of using a list comprehension to create a list of the numbers plus one.\n",
    "numbers_plus_one = [number + 1 for number in numbers]\n",
    "\n",
    "# Example code that creates a list of all of the list of strings in fruits and uppercases every string\n",
    "output = []\n",
    "for fruit in fruits:\n",
    "    output.append(fruit.upper())"
   ]
  },
  {
   "cell_type": "markdown",
   "metadata": {},
   "source": [
    "## Exercise 1 \n",
    "\n",
    "Rewrite the above example code using list comprehension syntax. Make a variable `named uppercased_fruits` to hold the output of the list comprehension. \n",
    "- Desired output:\n",
    "```python\n",
    ">>> ['MANGO', 'KIWI', ...]\n",
    "```"
   ]
  },
  {
   "cell_type": "code",
   "execution_count": 2,
   "metadata": {},
   "outputs": [
    {
     "name": "stdout",
     "output_type": "stream",
     "text": [
      "['MANGO', 'KIWI', 'STRAWBERRY', 'GUAVA', 'PINEAPPLE', 'MANDARIN ORANGE']\n"
     ]
    }
   ],
   "source": [
    "fruits = ['mango', 'kiwi', 'strawberry', 'guava', 'pineapple', 'mandarin orange']\n",
    "fruits2=[]\n",
    "for x in fruits:\n",
    "    a=x.upper()\n",
    "    fruits2.append(a)\n",
    "\n",
    "print(fruits2)\n"
   ]
  },
  {
   "cell_type": "markdown",
   "metadata": {},
   "source": [
    "## Exercise 2 \n",
    "\n",
    "Create a variable named `capitalized_fruits` and use list comprehension syntax to produce \n",
    "- Desired output: \n",
    "```python\n",
    ">>> ['Mango', 'Kiwi', 'Strawberry', ...]\n",
    "```"
   ]
  },
  {
   "cell_type": "code",
   "execution_count": 3,
   "metadata": {},
   "outputs": [
    {
     "name": "stdout",
     "output_type": "stream",
     "text": [
      "['Mango', 'Kiwi', 'Strawberry', 'Guava', 'Pineapple', 'Mandarin orange']\n"
     ]
    }
   ],
   "source": [
    "fruits = ['mango', 'kiwi', 'strawberry', 'guava', 'pineapple', 'mandarin orange']\n",
    "capitilazed_fruits=[]\n",
    "for x in fruits:\n",
    "    a=x.capitalize()\n",
    "    capitilazed_fruits.append(a)\n",
    "\n",
    "print(capitilazed_fruits)"
   ]
  },
  {
   "cell_type": "markdown",
   "metadata": {},
   "source": [
    "## Exercise 3\n",
    "\n",
    "Make a list that contains each fruit with exactly 5 characters"
   ]
  },
  {
   "cell_type": "code",
   "execution_count": 4,
   "metadata": {},
   "outputs": [
    {
     "name": "stdout",
     "output_type": "stream",
     "text": [
      "['mango', 'guava']\n"
     ]
    }
   ],
   "source": [
    "fruits = ['mango', 'kiwi', 'strawberry', 'guava', 'pineapple', 'mandarin orange']\n",
    "new_fruit=[]\n",
    "for x in fruits:\n",
    "    if len(x)==5:\n",
    "        new_fruit.append(x)\n",
    "print(new_fruit)"
   ]
  },
  {
   "cell_type": "markdown",
   "metadata": {},
   "source": [
    "## Exercise 4\n",
    "\n",
    "Make a list containing the number of characters in each fruit. \n",
    "- Desired output\n",
    "```python \n",
    ">>> [5, 4, 10, ... ]\n",
    "```"
   ]
  },
  {
   "cell_type": "code",
   "execution_count": 5,
   "metadata": {},
   "outputs": [
    {
     "name": "stdout",
     "output_type": "stream",
     "text": [
      "[5, 4, 10, 5, 9, 15]\n"
     ]
    }
   ],
   "source": [
    "fruits = ['mango', 'kiwi', 'strawberry', 'guava', 'pineapple', 'mandarin orange']\n",
    "number_of_character=[]\n",
    "for x in fruits:\n",
    "    number_of_character.append(len(x))\n",
    "\n",
    "print(number_of_character)"
   ]
  },
  {
   "cell_type": "markdown",
   "metadata": {},
   "source": [
    "## Exercise 5\n",
    "\n",
    "Make a variable named `odd_negative_numbers` that contains only the numbers that are both odd and negative.\n",
    "- Input:\n",
    "```python\n",
    "import numpy as np\n",
    "np.random.seed(10)\n",
    ">>> arr = np.random.randint(low=-100, high=100, size=(50,))\n",
    "```\n",
    "- Desired output:\n",
    "```python\n",
    ">>> odd_negative_numbers\n",
    ">>> [-91, -85, -27, -67, -23, -87, -11, -35, -69, -43, -73, -7, -23]\n",
    "```"
   ]
  },
  {
   "cell_type": "code",
   "execution_count": 7,
   "metadata": {},
   "outputs": [
    {
     "name": "stdout",
     "output_type": "stream",
     "text": [
      "odd_negative_numbers [-91, -85, -27, -67, -23, -87, -11, -35, -69, -43, -73, -7, -23]\n"
     ]
    }
   ],
   "source": [
    "import numpy as np\n",
    "np.random.seed(10)\n",
    "arr=np.random.randint(low=-100,high=100,size=(50,))\n",
    "odd_negative_numbers=[]\n",
    "for x in arr:\n",
    "    if x%2==1 and x<0:\n",
    "        odd_negative_numbers.append(x)\n",
    "\n",
    "print('odd_negative_numbers',odd_negative_numbers)"
   ]
  },
  {
   "cell_type": "markdown",
   "metadata": {},
   "source": [
    "## Exercise 6\n",
    "\n",
    "`if...else` With List Comprehension\n",
    "- Input:\n",
    "```python\n",
    ">>> list1 = range(10)\n",
    "```\n",
    "- Desired output:\n",
    "```python\n",
    ">>> ['Even', 'Odd', 'Even', 'Odd', 'Even', 'Odd', 'Even', 'Odd', 'Even', 'Odd']\n",
    "```"
   ]
  },
  {
   "cell_type": "code",
   "execution_count": 6,
   "metadata": {},
   "outputs": [
    {
     "name": "stdout",
     "output_type": "stream",
     "text": [
      "['Even', 'Odd', 'Even', 'Odd', 'Even', 'Odd', 'Even', 'Odd', 'Even', 'Odd']\n"
     ]
    }
   ],
   "source": [
    "list1=range(10)\n",
    "list=[]\n",
    "for i in list1:\n",
    "    if i%2==0:\n",
    "        list.append('Even')\n",
    "    else:\n",
    "        list.append('Odd')\n",
    "print(list)"
   ]
  },
  {
   "cell_type": "markdown",
   "metadata": {},
   "source": [
    "## Exercise 7\n",
    "\n",
    "Compute the transpose of a Matrix using List Comprehension\n",
    "\n",
    "- Input:\n",
    "```python\n",
    ">>> matrix = [[1, 2], [3,4], [5,6], [7,8]]\n",
    "```\n",
    "- Desired output:\n",
    "```python\n",
    ">>> [[1, 3, 5, 7], [2, 4, 6, 8]]\n",
    "```"
   ]
  },
  {
   "cell_type": "code",
   "execution_count": 16,
   "metadata": {},
   "outputs": [
    {
     "name": "stdout",
     "output_type": "stream",
     "text": [
      "[[1, 3, 5, 7], [2, 4, 6, 8]]\n"
     ]
    }
   ],
   "source": [
    "import numpy as np\n",
    "matrix=[[1, 2], [3,4], [5,6], [7,8]]\n",
    "odd_numbers=[]\n",
    "even_numbers=[]\n",
    "for x in matrix:\n",
    "    for a in x:\n",
    "        if a%2==1:\n",
    "            odd_numbers.append(a)\n",
    "        else:\n",
    "            even_numbers.append(a)\n",
    "list=[odd_numbers,even_numbers]\n",
    "print(list)\n"
   ]
  }
 ],
 "metadata": {
  "hide_input": false,
  "kernelspec": {
   "display_name": "Python 3.10.7 64-bit",
   "language": "python",
   "name": "python3"
  },
  "language_info": {
   "codemirror_mode": {
    "name": "ipython",
    "version": 3
   },
   "file_extension": ".py",
   "mimetype": "text/x-python",
   "name": "python",
   "nbconvert_exporter": "python",
   "pygments_lexer": "ipython3",
   "version": "3.10.7"
  },
  "vscode": {
   "interpreter": {
    "hash": "fd8f3adcea31044b3e77aa71aebbe4ec29b30cdb60e99ddd1c0409e86832bc5f"
   }
  }
 },
 "nbformat": 4,
 "nbformat_minor": 4
}
